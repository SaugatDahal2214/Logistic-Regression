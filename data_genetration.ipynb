{
 "cells": [
  {
   "cell_type": "code",
   "execution_count": 27,
   "metadata": {},
   "outputs": [],
   "source": [
    "import numpy as np\n",
    "import pandas as pd"
   ]
  },
  {
   "cell_type": "code",
   "execution_count": 28,
   "metadata": {},
   "outputs": [],
   "source": [
    "n_samples = 1000"
   ]
  },
  {
   "cell_type": "code",
   "execution_count": 29,
   "metadata": {},
   "outputs": [],
   "source": [
    "np.random.seed(42)"
   ]
  },
  {
   "cell_type": "code",
   "execution_count": 30,
   "metadata": {},
   "outputs": [],
   "source": [
    "# Random Data Generation\n",
    "\n",
    "height = np.round(np.random.uniform(0.3, 0.9, n_samples), 2)\n",
    "weight = np.round(np.random.uniform(2, 10, n_samples), 2)\n",
    "fur_intensity = np.round(np.random.uniform(0.1, 1.0, n_samples), 2)\n",
    "tail_length = np.round(np.random.uniform(0.1, 1.0, n_samples), 2)\n",
    "energy_level = np.round(np.random.uniform(0.1, 1.0, n_samples), 2)"
   ]
  },
  {
   "cell_type": "code",
   "execution_count": 31,
   "metadata": {},
   "outputs": [],
   "source": [
    "# Feature Engineering\n",
    "ear_size = np.round(np.random.uniform(0.1, 0.9, n_samples), 2)\n",
    "paw_size = np.round(height * weight * 0.1 + np.random.uniform(0, 0.05, n_samples), 2)\n",
    "interaction_term = np.round(fur_intensity * tail_length, 2)\n",
    "\n",
    "\n",
    "logit = (3 * height + 2 * weight - 1.5 * fur_intensity + tail_length - 2 * energy_level +\n",
    "         1.2 * ear_size + 0.8 * paw_size + interaction_term + np.random.normal(0, 0.5, n_samples)) # Implemting Logistic equation to remove linear relationship\n",
    "\n",
    "label = (logit > np.median(logit)).astype(int) # 0 as Cats and 1 as Dogs"
   ]
  },
  {
   "cell_type": "code",
   "execution_count": 32,
   "metadata": {},
   "outputs": [],
   "source": [
    "data = pd.DataFrame({\n",
    "    'Height': height,\n",
    "    'Weight': weight,\n",
    "    'Fur_Intensity': fur_intensity,\n",
    "    'Tail_Length': tail_length,\n",
    "    'Energy_Level': energy_level,\n",
    "    'Ear_Size': ear_size,\n",
    "    'Paw_Size': paw_size,\n",
    "    'Interaction_Term': interaction_term,\n",
    "    'Label': label\n",
    "})"
   ]
  },
  {
   "cell_type": "code",
   "execution_count": 33,
   "metadata": {},
   "outputs": [
    {
     "data": {
      "text/html": [
       "<div>\n",
       "<style scoped>\n",
       "    .dataframe tbody tr th:only-of-type {\n",
       "        vertical-align: middle;\n",
       "    }\n",
       "\n",
       "    .dataframe tbody tr th {\n",
       "        vertical-align: top;\n",
       "    }\n",
       "\n",
       "    .dataframe thead th {\n",
       "        text-align: right;\n",
       "    }\n",
       "</style>\n",
       "<table border=\"1\" class=\"dataframe\">\n",
       "  <thead>\n",
       "    <tr style=\"text-align: right;\">\n",
       "      <th></th>\n",
       "      <th>Height</th>\n",
       "      <th>Weight</th>\n",
       "      <th>Fur_Intensity</th>\n",
       "      <th>Tail_Length</th>\n",
       "      <th>Energy_Level</th>\n",
       "      <th>Ear_Size</th>\n",
       "      <th>Paw_Size</th>\n",
       "      <th>Interaction_Term</th>\n",
       "      <th>Label</th>\n",
       "    </tr>\n",
       "  </thead>\n",
       "  <tbody>\n",
       "    <tr>\n",
       "      <th>0</th>\n",
       "      <td>0.52</td>\n",
       "      <td>3.48</td>\n",
       "      <td>0.34</td>\n",
       "      <td>0.71</td>\n",
       "      <td>0.61</td>\n",
       "      <td>0.41</td>\n",
       "      <td>0.21</td>\n",
       "      <td>0.24</td>\n",
       "      <td>0</td>\n",
       "    </tr>\n",
       "    <tr>\n",
       "      <th>1</th>\n",
       "      <td>0.87</td>\n",
       "      <td>6.34</td>\n",
       "      <td>0.32</td>\n",
       "      <td>0.82</td>\n",
       "      <td>0.82</td>\n",
       "      <td>0.48</td>\n",
       "      <td>0.56</td>\n",
       "      <td>0.26</td>\n",
       "      <td>1</td>\n",
       "    </tr>\n",
       "    <tr>\n",
       "      <th>2</th>\n",
       "      <td>0.74</td>\n",
       "      <td>8.98</td>\n",
       "      <td>0.92</td>\n",
       "      <td>0.33</td>\n",
       "      <td>0.78</td>\n",
       "      <td>0.78</td>\n",
       "      <td>0.71</td>\n",
       "      <td>0.30</td>\n",
       "      <td>1</td>\n",
       "    </tr>\n",
       "    <tr>\n",
       "      <th>3</th>\n",
       "      <td>0.66</td>\n",
       "      <td>7.86</td>\n",
       "      <td>0.32</td>\n",
       "      <td>0.66</td>\n",
       "      <td>0.24</td>\n",
       "      <td>0.37</td>\n",
       "      <td>0.55</td>\n",
       "      <td>0.21</td>\n",
       "      <td>1</td>\n",
       "    </tr>\n",
       "    <tr>\n",
       "      <th>4</th>\n",
       "      <td>0.39</td>\n",
       "      <td>8.45</td>\n",
       "      <td>0.34</td>\n",
       "      <td>0.61</td>\n",
       "      <td>0.23</td>\n",
       "      <td>0.80</td>\n",
       "      <td>0.34</td>\n",
       "      <td>0.21</td>\n",
       "      <td>1</td>\n",
       "    </tr>\n",
       "  </tbody>\n",
       "</table>\n",
       "</div>"
      ],
      "text/plain": [
       "   Height  Weight  Fur_Intensity  Tail_Length  Energy_Level  Ear_Size  \\\n",
       "0    0.52    3.48           0.34         0.71          0.61      0.41   \n",
       "1    0.87    6.34           0.32         0.82          0.82      0.48   \n",
       "2    0.74    8.98           0.92         0.33          0.78      0.78   \n",
       "3    0.66    7.86           0.32         0.66          0.24      0.37   \n",
       "4    0.39    8.45           0.34         0.61          0.23      0.80   \n",
       "\n",
       "   Paw_Size  Interaction_Term  Label  \n",
       "0      0.21              0.24      0  \n",
       "1      0.56              0.26      1  \n",
       "2      0.71              0.30      1  \n",
       "3      0.55              0.21      1  \n",
       "4      0.34              0.21      1  "
      ]
     },
     "execution_count": 33,
     "metadata": {},
     "output_type": "execute_result"
    }
   ],
   "source": [
    "data.head()"
   ]
  },
  {
   "cell_type": "code",
   "execution_count": 34,
   "metadata": {},
   "outputs": [],
   "source": [
    "data.to_csv('cat_vs_dog_randomData.csv')"
   ]
  }
 ],
 "metadata": {
  "kernelspec": {
   "display_name": "env",
   "language": "python",
   "name": "python3"
  },
  "language_info": {
   "codemirror_mode": {
    "name": "ipython",
    "version": 3
   },
   "file_extension": ".py",
   "mimetype": "text/x-python",
   "name": "python",
   "nbconvert_exporter": "python",
   "pygments_lexer": "ipython3",
   "version": "3.12.3"
  }
 },
 "nbformat": 4,
 "nbformat_minor": 2
}
